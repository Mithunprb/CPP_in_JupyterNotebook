{
 "cells": [
  {
   "cell_type": "markdown",
   "id": "7d86c76a-22d0-438a-b45e-cdfbbe56deda",
   "metadata": {},
   "source": [
    "Here we can write our c++ code \n",
    "```%%writefile example_sh.sh``` for writing this cell to the ```example_sh.sh``` file"
   ]
  },
  {
   "cell_type": "code",
   "execution_count": 1,
   "id": "75b8a5e7-037b-4f8b-ae8c-462c810b6183",
   "metadata": {},
   "outputs": [
    {
     "name": "stdout",
     "output_type": "stream",
     "text": [
      "Overwriting example_sh.sh\n"
     ]
    }
   ],
   "source": [
    "%%writefile example_sh.sh\n",
    "#!/bin/bash\n",
    "\n",
    "n=101;\n",
    "echo \"Your lucky number is: \" $n;\n",
    "if [ $n -eq 101 ];\n",
    "then\n",
    "echo \"You got 1st prize\"\n",
    "elif [ $n -eq 510 ];\n",
    "then\n",
    "echo \"You got 2nd prize\"\n",
    "elif [ $n -eq 999 ];\n",
    "then\n",
    "echo \"You got 3rd prize\"\n",
    "\n",
    "else\n",
    "echo \"Sorry, try for the next time\"\n",
    "fi"
   ]
  },
  {
   "cell_type": "code",
   "execution_count": 2,
   "id": "78396cff-57ad-46c0-8129-c3bb10e0b8dd",
   "metadata": {},
   "outputs": [
    {
     "name": "stdout",
     "output_type": "stream",
     "text": [
      "Your lucky number is:  101\n",
      "You got 1st prize\n"
     ]
    }
   ],
   "source": [
    "!bash example_sh.sh"
   ]
  },
  {
   "cell_type": "code",
   "execution_count": null,
   "id": "2590bf48-30d3-4a38-875c-39fb02f27194",
   "metadata": {},
   "outputs": [],
   "source": []
  }
 ],
 "metadata": {
  "kernelspec": {
   "display_name": "Python 3 (ipykernel)",
   "language": "python",
   "name": "python3"
  },
  "language_info": {
   "codemirror_mode": {
    "name": "ipython",
    "version": 3
   },
   "file_extension": ".py",
   "mimetype": "text/x-python",
   "name": "python",
   "nbconvert_exporter": "python",
   "pygments_lexer": "ipython3",
   "version": "3.9.7"
  }
 },
 "nbformat": 4,
 "nbformat_minor": 5
}
