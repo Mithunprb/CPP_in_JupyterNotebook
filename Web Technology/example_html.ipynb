{
 "cells": [
  {
   "cell_type": "markdown",
   "id": "06d1de48-6454-4b26-b7c8-3c09832e20eb",
   "metadata": {},
   "source": [
    "Jupyter notebooks does support HTML tags for more information [clikc here](https://jupyter-notebook.readthedocs.io/en/stable/notebook.html)"
   ]
  },
  {
   "cell_type": "code",
   "execution_count": 1,
   "id": "98727ba2-b1b9-4848-adb6-24ad72a5eb87",
   "metadata": {},
   "outputs": [
    {
     "data": {
      "text/html": [
       "<h1>Hello, world!</h1>"
      ],
      "text/plain": [
       "<IPython.core.display.HTML object>"
      ]
     },
     "metadata": {},
     "output_type": "display_data"
    }
   ],
   "source": [
    "from IPython.core.display import display, HTML\n",
    "display(HTML('<h1>Hello, world!</h1>'))"
   ]
  },
  {
   "cell_type": "code",
   "execution_count": 2,
   "id": "cd144e1f-53f4-4230-a453-bdd94a938fd0",
   "metadata": {},
   "outputs": [
    {
     "data": {
      "text/html": [
       "<a href=\"https://github.com/Mithunprb\">My GitHub Profile</a>"
      ],
      "text/plain": [
       "<IPython.core.display.HTML object>"
      ]
     },
     "metadata": {},
     "output_type": "display_data"
    }
   ],
   "source": [
    "display(HTML('<a href=\"https://github.com/Mithunprb\">My GitHub Profile</a>'))"
   ]
  },
  {
   "cell_type": "code",
   "execution_count": 3,
   "id": "0272de29-f998-45c9-a5b8-7fdf471241d8",
   "metadata": {},
   "outputs": [
    {
     "data": {
      "text/html": [
       "<script>\n",
       "function getResults(data, div_id) {\n",
       "    var checkExist = setInterval(function() {\n",
       "       if ($('#' + div_id).length) {\n",
       "          document.getElementById(div_id).textContent = data;\n",
       "\n",
       "          clearInterval(checkExist);\n",
       "       }\n",
       "    }, 100);    \n",
       "};\n",
       "</script>"
      ],
      "text/plain": [
       "<IPython.core.display.HTML object>"
      ]
     },
     "metadata": {},
     "output_type": "display_data"
    }
   ],
   "source": [
    "from IPython.display import display, HTML, Javascript\n",
    "\n",
    "js_getResults = \"\"\"<script>\n",
    "function getResults(data, div_id) {\n",
    "    var checkExist = setInterval(function() {\n",
    "       if ($('#' + div_id).length) {\n",
    "          document.getElementById(div_id).textContent = data;\n",
    "\n",
    "          clearInterval(checkExist);\n",
    "       }\n",
    "    }, 100);    \n",
    "};\n",
    "</script>\"\"\"\n",
    "\n",
    "display(HTML(js_getResults))"
   ]
  },
  {
   "cell_type": "code",
   "execution_count": 4,
   "id": "03523b24-8160-47c6-aa7e-450f19025bec",
   "metadata": {},
   "outputs": [
    {
     "data": {
      "text/html": [
       "<div id=\"unique_id\">Waiting for response...</div>"
      ],
      "text/plain": [
       "<IPython.core.display.HTML object>"
      ]
     },
     "metadata": {},
     "output_type": "display_data"
    },
    {
     "data": {
      "text/plain": [
       "<DisplayHandle display_id=unique_disp_id>"
      ]
     },
     "execution_count": 5,
     "metadata": {},
     "output_type": "execute_result"
    }
   ],
   "source": [
    "js_request = '$.get(\"http://this.server/\", function(data){getResults(data, \"unique_id\");});'\n",
    "html_div = '<div id=\"unique_id\">Waiting for response...</div>'\n",
    "\n",
    "display(Javascript(js_request), display_id='unique_disp_id')\n",
    "display(HTML(html_div), display_id='unique_disp_id', update=True)"
   ]
  },
  {
   "cell_type": "code",
   "execution_count": null,
   "id": "c7dc8f4c-18ca-400f-b0d7-9139f023b546",
   "metadata": {},
   "outputs": [],
   "source": []
  }
 ],
 "metadata": {
  "kernelspec": {
   "display_name": "Python 3 (ipykernel)",
   "language": "python",
   "name": "python3"
  },
  "language_info": {
   "codemirror_mode": {
    "name": "ipython",
    "version": 3
   },
   "file_extension": ".py",
   "mimetype": "text/x-python",
   "name": "python",
   "nbconvert_exporter": "python",
   "pygments_lexer": "ipython3",
   "version": "3.9.7"
  }
 },
 "nbformat": 4,
 "nbformat_minor": 5
}
