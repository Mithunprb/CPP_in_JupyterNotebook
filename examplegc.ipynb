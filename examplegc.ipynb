{
  "cells": [
    {
      "cell_type": "markdown",
      "metadata": {
        "id": "view-in-github",
        "colab_type": "text"
      },
      "source": [
        "<a href=\"https://colab.research.google.com/github/Mithunprb/CPP_in_JupyterNotebook/blob/main/examplegc.ipynb\" target=\"_parent\"><img src=\"https://colab.research.google.com/assets/colab-badge.svg\" alt=\"Open In Colab\"/></a>"
      ]
    },
    {
      "cell_type": "code",
      "execution_count": 1,
      "id": "7315cdb5-2168-40d9-a800-2c4e9c913849",
      "metadata": {
        "colab": {
          "base_uri": "https://localhost:8080/"
        },
        "id": "7315cdb5-2168-40d9-a800-2c4e9c913849",
        "outputId": "68effcdb-80b2-40cf-e8b4-aa069fbbac14"
      },
      "outputs": [
        {
          "output_type": "stream",
          "name": "stdout",
          "text": [
            "Writing example.cpp\n"
          ]
        }
      ],
      "source": [
        "%%writefile example.cpp\n",
        "#include <iostream>\n",
        "#define ExecFast ios_base::sync_with_stdio(false),cin.tie(nullptr), cout.tie(nullptr);\n",
        "using namespace std;\n",
        " \n",
        "int main(){\n",
        "\tExecFast\n",
        "\tint w;\n",
        "\tw = 4;\n",
        "\t(w>2 && w % 2 == 0)?(cout<<\"YES\"<<\"\\n\"):(cout<<\"NO\"<<\"\\n\");\n",
        "\t}"
      ]
    },
    {
      "cell_type": "code",
      "execution_count": null,
      "id": "f7653781-da3d-48db-b87b-9af0d6dc5ff6",
      "metadata": {
        "id": "f7653781-da3d-48db-b87b-9af0d6dc5ff6"
      },
      "outputs": [],
      "source": [
        "# with open('output.txt', 'w') as f:\n",
        "#     f.write(cap.stdout)"
      ]
    },
    {
      "cell_type": "code",
      "execution_count": 2,
      "id": "4396a65d-ce77-4392-83ce-4010b0f2100d",
      "metadata": {
        "colab": {
          "base_uri": "https://localhost:8080/"
        },
        "id": "4396a65d-ce77-4392-83ce-4010b0f2100d",
        "outputId": "114568af-eb76-4332-c487-a4f56d828619"
      },
      "outputs": [
        {
          "output_type": "stream",
          "name": "stdout",
          "text": [
            "g++ (Ubuntu 7.5.0-3ubuntu1~18.04) 7.5.0\n",
            "Copyright (C) 2017 Free Software Foundation, Inc.\n",
            "This is free software; see the source for copying conditions.  There is NO\n",
            "warranty; not even for MERCHANTABILITY or FITNESS FOR A PARTICULAR PURPOSE.\n",
            "\n"
          ]
        }
      ],
      "source": [
        "!g++ --version"
      ]
    },
    {
      "cell_type": "code",
      "execution_count": 3,
      "id": "ab290fcc-4c04-4086-b7fb-f240ea239f9a",
      "metadata": {
        "id": "ab290fcc-4c04-4086-b7fb-f240ea239f9a"
      },
      "outputs": [],
      "source": [
        "# !g++ example.cpp\n",
        "!g++ -o example example.cpp"
      ]
    },
    {
      "cell_type": "code",
      "execution_count": 4,
      "id": "78931787-2174-43c2-9b4a-deed405504d2",
      "metadata": {
        "colab": {
          "base_uri": "https://localhost:8080/"
        },
        "id": "78931787-2174-43c2-9b4a-deed405504d2",
        "outputId": "5bd1bae3-62fd-46c9-96b8-b1d8aeb99669"
      },
      "outputs": [
        {
          "output_type": "stream",
          "name": "stdout",
          "text": [
            "CompletedProcess(args='./example', returncode=0, stdout=b'YES\\n')\n"
          ]
        }
      ],
      "source": [
        "import subprocess\n",
        "#a = subprocess.check_output(\"./example\")\n",
        "a = subprocess.run('./example', stdout=subprocess.PIPE)\n",
        "print(a)"
      ]
    },
    {
      "cell_type": "code",
      "execution_count": 5,
      "id": "c37e7ab2-185b-4d4b-ad3b-ca5d297b3358",
      "metadata": {
        "colab": {
          "base_uri": "https://localhost:8080/"
        },
        "id": "c37e7ab2-185b-4d4b-ad3b-ca5d297b3358",
        "outputId": "719d514d-42a1-4ee6-8aa5-6b6995ad4087"
      },
      "outputs": [
        {
          "output_type": "stream",
          "name": "stdout",
          "text": [
            "YES\n",
            "\n"
          ]
        }
      ],
      "source": [
        "result_string = a.stdout.decode('utf-8')\n",
        "print(result_string)"
      ]
    },
    {
      "cell_type": "code",
      "execution_count": null,
      "id": "f66692b1-3130-4e6f-98d7-8b69519aa3c7",
      "metadata": {
        "id": "f66692b1-3130-4e6f-98d7-8b69519aa3c7"
      },
      "outputs": [],
      "source": [
        ""
      ]
    }
  ],
  "metadata": {
    "kernelspec": {
      "display_name": "Python 3 (ipykernel)",
      "language": "python",
      "name": "python3"
    },
    "language_info": {
      "codemirror_mode": {
        "name": "ipython",
        "version": 3
      },
      "file_extension": ".py",
      "mimetype": "text/x-python",
      "name": "python",
      "nbconvert_exporter": "python",
      "pygments_lexer": "ipython3",
      "version": "3.9.7"
    },
    "colab": {
      "name": "example.ipynb",
      "provenance": [],
      "include_colab_link": true
    }
  },
  "nbformat": 4,
  "nbformat_minor": 5
}