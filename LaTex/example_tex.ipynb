{
 "cells": [
  {
   "cell_type": "markdown",
   "id": "06d1de48-6454-4b26-b7c8-3c09832e20eb",
   "metadata": {},
   "source": [
    "In jupyter notebook we have this amazing ability to write LaTex syntax for markdown. LaTex is my first choice when it commes to write PDF's or banners. Now beacause of the ```%%latex``` magic tag we can use it in our jupyter notebooks"
   ]
  },
  {
   "cell_type": "code",
   "execution_count": 63,
   "id": "98727ba2-b1b9-4848-adb6-24ad72a5eb87",
   "metadata": {},
   "outputs": [
    {
     "data": {
      "text/latex": [
       "We can write mathematical equations like:\n",
       "\\begin{equation}\n",
       "    A_{1:m, 1:n} \\rightarrow \\sum_{1\\leq i\\leq m, 1\\leq i\\leq n}  A_{i, j} M_{i, j} \\label{eq:2}\n",
       "\\end{equation}\n",
       "or\n",
       "\\begin{equation}\n",
       "    R_{y}(\\theta) = \\begin{bmatrix}\n",
       " \\cos(\\theta) & -\\sin(\\theta)\\\\ \n",
       " \\sin(\\theta) &  \\cos(\\theta) \n",
       "\\end{bmatrix} \n",
       "\\label{eq:5}\n",
       "\\end{equation}\n"
      ],
      "text/plain": [
       "<IPython.core.display.Latex object>"
      ]
     },
     "metadata": {},
     "output_type": "display_data"
    }
   ],
   "source": [
    "%%latex\n",
    "We can write mathematical equations like:\n",
    "\\begin{equation}\n",
    "    A_{1:m, 1:n} \\rightarrow \\sum_{1\\leq i\\leq m, 1\\leq i\\leq n}  A_{i, j} M_{i, j} \\label{eq:2}\n",
    "\\end{equation}\n",
    "or\n",
    "\\begin{equation}\n",
    "    R_{y}(\\theta) = \\begin{bmatrix}\n",
    " \\cos(\\theta) & -\\sin(\\theta)\\\\ \n",
    " \\sin(\\theta) &  \\cos(\\theta) \n",
    "\\end{bmatrix} \n",
    "\\label{eq:5}\n",
    "\\end{equation}"
   ]
  },
  {
   "cell_type": "code",
   "execution_count": null,
   "id": "cd144e1f-53f4-4230-a453-bdd94a938fd0",
   "metadata": {},
   "outputs": [],
   "source": []
  }
 ],
 "metadata": {
  "kernelspec": {
   "display_name": "Python 3 (ipykernel)",
   "language": "python",
   "name": "python3"
  },
  "language_info": {
   "codemirror_mode": {
    "name": "ipython",
    "version": 3
   },
   "file_extension": ".py",
   "mimetype": "text/x-python",
   "name": "python",
   "nbconvert_exporter": "python",
   "pygments_lexer": "ipython3",
   "version": "3.9.7"
  }
 },
 "nbformat": 4,
 "nbformat_minor": 5
}
