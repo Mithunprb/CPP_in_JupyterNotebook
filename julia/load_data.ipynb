{
 "cells": [
  {
   "cell_type": "code",
   "execution_count": 3,
   "id": "d981c831",
   "metadata": {},
   "outputs": [
    {
     "name": "stderr",
     "output_type": "stream",
     "text": [
      "\u001b[32m\u001b[1m  Resolving\u001b[22m\u001b[39m package versions...\n",
      "\u001b[32m\u001b[1m   Updating\u001b[22m\u001b[39m `~/.julia/environments/v1.4/Project.toml`\n",
      "\u001b[90m [no changes]\u001b[39m\n",
      "\u001b[32m\u001b[1m   Updating\u001b[22m\u001b[39m `~/.julia/environments/v1.4/Manifest.toml`\n",
      "\u001b[90m [no changes]\u001b[39m\n",
      "\u001b[32m\u001b[1m  Resolving\u001b[22m\u001b[39m package versions...\n",
      "\u001b[32m\u001b[1m   Updating\u001b[22m\u001b[39m `~/.julia/environments/v1.4/Project.toml`\n",
      "\u001b[90m [no changes]\u001b[39m\n",
      "\u001b[32m\u001b[1m   Updating\u001b[22m\u001b[39m `~/.julia/environments/v1.4/Manifest.toml`\n",
      "\u001b[90m [no changes]\u001b[39m\n"
     ]
    },
    {
     "name": "stdout",
     "output_type": "stream",
     "text": [
      "\u001b[1m13×5 DataFrame\u001b[0m\n",
      "\u001b[1m Row \u001b[0m│\u001b[1m Age   \u001b[0m\u001b[1m Experience \u001b[0m\u001b[1m Rank  \u001b[0m\u001b[1m Nationality \u001b[0m\u001b[1m Go      \u001b[0m\n",
      "\u001b[1m     \u001b[0m│\u001b[90m Int64 \u001b[0m\u001b[90m Int64      \u001b[0m\u001b[90m Int64 \u001b[0m\u001b[90m String3     \u001b[0m\u001b[90m String3 \u001b[0m\n",
      "─────┼────────────────────────────────────────────────\n",
      "   1 │    36          10      9  UK           NO\n",
      "   2 │    42          12      4  USA          NO\n",
      "   3 │    23           4      6  N            NO\n",
      "   4 │    52           4      4  USA          NO\n",
      "   5 │    43          21      8  USA          YES\n",
      "   6 │    44          14      5  UK           NO\n",
      "   7 │    66           3      7  N            YES\n",
      "   8 │    35          14      9  UK           YES\n",
      "   9 │    52          13      7  N            YES\n",
      "  10 │    35           5      9  N            YES\n",
      "  11 │    24           3      5  USA          NO\n",
      "  12 │    18           3      7  UK           YES\n",
      "  13 │    45           9      9  UK           YES"
     ]
    }
   ],
   "source": [
    "using Pkg\n",
    "Pkg.add(\"CSV\")\n",
    "\n",
    "using Pkg\n",
    "Pkg.add(\"DataFrames\")\n",
    "\n",
    "using CSV\n",
    "using DataFrames\n",
    "\n",
    "df = CSV.read(\"shows.csv\", DataFrame)\n",
    "print(df)"
   ]
  },
  {
   "cell_type": "code",
   "execution_count": null,
   "id": "039639a6",
   "metadata": {},
   "outputs": [],
   "source": []
  },
  {
   "cell_type": "code",
   "execution_count": null,
   "id": "616c1cad",
   "metadata": {},
   "outputs": [],
   "source": []
  }
 ],
 "metadata": {
  "kernelspec": {
   "display_name": "Julia 1.4.1",
   "language": "julia",
   "name": "julia-1.4"
  },
  "language_info": {
   "file_extension": ".jl",
   "mimetype": "application/julia",
   "name": "julia",
   "version": "1.4.1"
  }
 },
 "nbformat": 4,
 "nbformat_minor": 5
}
