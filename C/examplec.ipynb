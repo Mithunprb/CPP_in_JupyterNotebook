{
 "cells": [
  {
   "cell_type": "markdown",
   "id": "06d1de48-6454-4b26-b7c8-3c09832e20eb",
   "metadata": {},
   "source": [
    "If you use Unix based os (eg. Linux or MacOS) you are probabily familier with the shell commands. I use both unix based os so, they are very helpful for me. Now with the help of the Ipython we can use this shell commands inside our jupyter notebooks. Another advantage of this to run compiler like ```gcc``` or ```g++``` to execute C/C++ program in jupyter notebook"
   ]
  },
  {
   "cell_type": "markdown",
   "id": "7d86c76a-22d0-438a-b45e-cdfbbe56deda",
   "metadata": {},
   "source": [
    "Here we can write our c++ code \n",
    "```%%writefile examplec.c``` for writing this cell to the ```examplec.c``` file"
   ]
  },
  {
   "cell_type": "code",
   "execution_count": 2,
   "id": "75b8a5e7-037b-4f8b-ae8c-462c810b6183",
   "metadata": {},
   "outputs": [
    {
     "name": "stdout",
     "output_type": "stream",
     "text": [
      "Overwriting examplec.c\n"
     ]
    }
   ],
   "source": [
    "%%writefile examplec.c\n",
    "// C Program to find n'th fibonacci Number\n",
    "#include<stdio.h>\n",
    "#include<math.h>\n",
    "int fib(int n) {\n",
    "double phi = (1 + sqrt(5)) / 2;\n",
    "return round(pow(phi, n) / sqrt(5));\n",
    "}\n",
    "int main ()\n",
    "{\n",
    "int n = 9;\n",
    "printf(\"%d\", fib(n));\n",
    "return 0;\n",
    "}"
   ]
  },
  {
   "cell_type": "markdown",
   "id": "9c5c5e5f-df5b-4bd6-b5cd-c38ff2618189",
   "metadata": {},
   "source": [
    "To check the version of the g++ compiler"
   ]
  },
  {
   "cell_type": "code",
   "execution_count": 3,
   "id": "4396a65d-ce77-4392-83ce-4010b0f2100d",
   "metadata": {},
   "outputs": [
    {
     "name": "stdout",
     "output_type": "stream",
     "text": [
      "Configured with: --prefix=/Library/Developer/CommandLineTools/usr --with-gxx-include-dir=/Library/Developer/CommandLineTools/SDKs/MacOSX.sdk/usr/include/c++/4.2.1\n",
      "Apple clang version 13.0.0 (clang-1300.0.29.3)\n",
      "Target: arm64-apple-darwin20.6.0\n",
      "Thread model: posix\n",
      "InstalledDir: /Library/Developer/CommandLineTools/usr/bin\n"
     ]
    }
   ],
   "source": [
    "!gcc --version"
   ]
  },
  {
   "cell_type": "code",
   "execution_count": 4,
   "id": "ab290fcc-4c04-4086-b7fb-f240ea239f9a",
   "metadata": {},
   "outputs": [],
   "source": [
    "# !g++ example.c\n",
    "!gcc examplec.c -o examplec"
   ]
  },
  {
   "cell_type": "code",
   "execution_count": 5,
   "id": "78931787-2174-43c2-9b4a-deed405504d2",
   "metadata": {},
   "outputs": [
    {
     "name": "stdout",
     "output_type": "stream",
     "text": [
      "CompletedProcess(args='./examplec', returncode=0, stdout=b'34')\n"
     ]
    }
   ],
   "source": [
    "import subprocess\n",
    "a = subprocess.run('./examplec', stdout=subprocess.PIPE)\n",
    "print(a)"
   ]
  },
  {
   "cell_type": "code",
   "execution_count": 6,
   "id": "c37e7ab2-185b-4d4b-ad3b-ca5d297b3358",
   "metadata": {},
   "outputs": [
    {
     "name": "stdout",
     "output_type": "stream",
     "text": [
      "34\n"
     ]
    }
   ],
   "source": [
    "result_string = a.stdout.decode('utf-8')\n",
    "print(result_string)"
   ]
  },
  {
   "cell_type": "code",
   "execution_count": null,
   "id": "f66692b1-3130-4e6f-98d7-8b69519aa3c7",
   "metadata": {},
   "outputs": [],
   "source": []
  }
 ],
 "metadata": {
  "kernelspec": {
   "display_name": "Python 3 (ipykernel)",
   "language": "python",
   "name": "python3"
  },
  "language_info": {
   "codemirror_mode": {
    "name": "ipython",
    "version": 3
   },
   "file_extension": ".py",
   "mimetype": "text/x-python",
   "name": "python",
   "nbconvert_exporter": "python",
   "pygments_lexer": "ipython3",
   "version": "3.9.7"
  }
 },
 "nbformat": 4,
 "nbformat_minor": 5
}
