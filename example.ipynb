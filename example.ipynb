{
 "cells": [
  {
   "cell_type": "markdown",
   "id": "06d1de48-6454-4b26-b7c8-3c09832e20eb",
   "metadata": {},
   "source": [
    "If you use Unix based os (eg. Linux or MacOS) you are probabily familier with the shell commands. I use both unix based os so, they are very helpful for me.  advantage of this to run compiler like ```gcc``` or ```g++``` to execute C/C++ program in jupyter notebook"
   ]
  },
  {
   "cell_type": "markdown",
   "id": "7d86c76a-22d0-438a-b45e-cdfbbe56deda",
   "metadata": {},
   "source": [
    "Here we can write our c++ code \n",
    "```%%writefile example.cpp``` for writing this cell to the ```example.cpp``` file"
   ]
  },
  {
   "cell_type": "code",
   "execution_count": null,
   "id": "75b8a5e7-037b-4f8b-ae8c-462c810b6183",
   "metadata": {},
   "outputs": [],
   "source": [
    "%%writefile example.cpp\n",
    "#include <iostream>\n",
    "#define ExecFast ios_base::sync_with_stdio(false),cin.tie(nullptr), cout.tie(nullptr);\n",
    "using namespace std;\n",
    " \n",
    "int main(){\n",
    "\tExecFast\n",
    "\tint w;\n",
    "\tcin>>w;\n",
    "\t(w>2 && w % 2 == 0)?(cout<<\"YES\"<<\"\\n\"):(cout<<\"NO\"<<\"\\n\");\n",
    "\t}"
   ]
  },
  {
   "cell_type": "markdown",
   "id": "9c5c5e5f-df5b-4bd6-b5cd-c38ff2618189",
   "metadata": {},
   "source": [
    "To check the version of the g++ compiler"
   ]
  },
  {
   "cell_type": "code",
   "execution_count": 16,
   "id": "4396a65d-ce77-4392-83ce-4010b0f2100d",
   "metadata": {},
   "outputs": [
    {
     "name": "stdout",
     "output_type": "stream",
     "text": [
      "Configured with: --prefix=/Library/Developer/CommandLineTools/usr --with-gxx-include-dir=/Library/Developer/CommandLineTools/SDKs/MacOSX.sdk/usr/include/c++/4.2.1\n",
      "Apple clang version 13.0.0 (clang-1300.0.29.3)\n",
      "Target: arm64-apple-darwin20.6.0\n",
      "Thread model: posix\n",
      "InstalledDir: /Library/Developer/CommandLineTools/usr/bin\n"
     ]
    }
   ],
   "source": [
    "!g++ --version"
   ]
  },
  {
   "cell_type": "code",
   "execution_count": 17,
   "id": "ab290fcc-4c04-4086-b7fb-f240ea239f9a",
   "metadata": {},
   "outputs": [],
   "source": [
    "# !g++ example.cpp\n",
    "!g++ -o example example.cpp"
   ]
  },
  {
   "cell_type": "markdown",
   "id": "1b53e018-7659-4dd9-9654-48e795dbdde3",
   "metadata": {},
   "source": [
    "So, In order to read input to execute correct output from our c++ program \n",
    "we first need to create ```example.in``` (or any other file) file to write an input\n",
    "and we can create a custom file for output as well eg. ```example.out```\n",
    "\n",
    "You can manually create them or use command like ```touch example.in``` /(```!touch example.in```) \n",
    "after we put input in ```example.in``` now we can get the output using python's module```subprocess```"
   ]
  },
  {
   "cell_type": "code",
   "execution_count": 18,
   "id": "c6137d1e-9001-40b3-b729-a6607c1215d8",
   "metadata": {},
   "outputs": [],
   "source": [
    "!./example.out < example.in > example.out"
   ]
  },
  {
   "cell_type": "code",
   "execution_count": 19,
   "id": "78931787-2174-43c2-9b4a-deed405504d2",
   "metadata": {},
   "outputs": [
    {
     "name": "stdout",
     "output_type": "stream",
     "text": [
      "CompletedProcess(args='./example', returncode=0, stdout=b'NO\\n')\n"
     ]
    }
   ],
   "source": [
    "import subprocess\n",
    "#a = subprocess.check_output(\"./example\")\n",
    "a = subprocess.run('./example', stdout=subprocess.PIPE)\n",
    "print(a)"
   ]
  },
  {
   "cell_type": "code",
   "execution_count": 20,
   "id": "c37e7ab2-185b-4d4b-ad3b-ca5d297b3358",
   "metadata": {},
   "outputs": [
    {
     "name": "stdout",
     "output_type": "stream",
     "text": [
      "NO\n",
      "\n"
     ]
    }
   ],
   "source": [
    "result_string = a.stdout.decode('utf-8')\n",
    "print(result_string)"
   ]
  },
  {
   "cell_type": "code",
   "execution_count": null,
   "id": "f66692b1-3130-4e6f-98d7-8b69519aa3c7",
   "metadata": {},
   "outputs": [],
   "source": []
  },
  {
   "cell_type": "code",
   "execution_count": null,
   "id": "78396cff-57ad-46c0-8129-c3bb10e0b8dd",
   "metadata": {},
   "outputs": [],
   "source": []
  }
 ],
 "metadata": {
  "kernelspec": {
   "display_name": "Python 3 (ipykernel)",
   "language": "python",
   "name": "python3"
  },
  "language_info": {
   "codemirror_mode": {
    "name": "ipython",
    "version": 3
   },
   "file_extension": ".py",
   "mimetype": "text/x-python",
   "name": "python",
   "nbconvert_exporter": "python",
   "pygments_lexer": "ipython3",
   "version": "3.9.7"
  }
 },
 "nbformat": 4,
 "nbformat_minor": 5
}
