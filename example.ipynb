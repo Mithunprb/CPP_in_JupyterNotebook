{
 "cells": [
  {
   "cell_type": "code",
   "execution_count": 14,
   "id": "7315cdb5-2168-40d9-a800-2c4e9c913849",
   "metadata": {},
   "outputs": [
    {
     "name": "stdout",
     "output_type": "stream",
     "text": [
      "Overwriting example.cpp\n"
     ]
    }
   ],
   "source": [
    "%%writefile example.cpp\n",
    "#include <iostream>\n",
    "#define ExecFast ios_base::sync_with_stdio(false),cin.tie(nullptr), cout.tie(nullptr);\n",
    "using namespace std;\n",
    " \n",
    "int main(){\n",
    "\tExecFast\n",
    "\tint w;\n",
    "\tw = 4;\n",
    "\t(w>2 && w % 2 == 0)?(cout<<\"YES\"<<\"\\n\"):(cout<<\"NO\"<<\"\\n\");\n",
    "\t}"
   ]
  },
  {
   "cell_type": "code",
   "execution_count": 11,
   "id": "f7653781-da3d-48db-b87b-9af0d6dc5ff6",
   "metadata": {},
   "outputs": [],
   "source": [
    "# with open('output.txt', 'w') as f:\n",
    "#     f.write(cap.stdout)"
   ]
  },
  {
   "cell_type": "code",
   "execution_count": 15,
   "id": "4396a65d-ce77-4392-83ce-4010b0f2100d",
   "metadata": {},
   "outputs": [
    {
     "name": "stdout",
     "output_type": "stream",
     "text": [
      "Configured with: --prefix=/Library/Developer/CommandLineTools/usr --with-gxx-include-dir=/Library/Developer/CommandLineTools/SDKs/MacOSX.sdk/usr/include/c++/4.2.1\n",
      "Apple clang version 13.0.0 (clang-1300.0.29.3)\n",
      "Target: arm64-apple-darwin20.6.0\n",
      "Thread model: posix\n",
      "InstalledDir: /Library/Developer/CommandLineTools/usr/bin\n"
     ]
    }
   ],
   "source": [
    "!g++ --version"
   ]
  },
  {
   "cell_type": "code",
   "execution_count": 16,
   "id": "ab290fcc-4c04-4086-b7fb-f240ea239f9a",
   "metadata": {},
   "outputs": [],
   "source": [
    "# !g++ example.cpp\n",
    "!g++ -o example example.cpp"
   ]
  },
  {
   "cell_type": "code",
   "execution_count": 21,
   "id": "78931787-2174-43c2-9b4a-deed405504d2",
   "metadata": {},
   "outputs": [
    {
     "name": "stdout",
     "output_type": "stream",
     "text": [
      "CompletedProcess(args='./example', returncode=0, stdout=b'YES\\n')\n"
     ]
    }
   ],
   "source": [
    "import subprocess\n",
    "#a = subprocess.check_output(\"./example\")\n",
    "a = subprocess.run('./example', stdout=subprocess.PIPE)\n",
    "print(a)"
   ]
  },
  {
   "cell_type": "code",
   "execution_count": 25,
   "id": "c37e7ab2-185b-4d4b-ad3b-ca5d297b3358",
   "metadata": {},
   "outputs": [
    {
     "name": "stdout",
     "output_type": "stream",
     "text": [
      "YES\n",
      "\n"
     ]
    }
   ],
   "source": [
    "result_string = a.stdout.decode('utf-8')\n",
    "print(result_string)"
   ]
  },
  {
   "cell_type": "code",
   "execution_count": null,
   "id": "f66692b1-3130-4e6f-98d7-8b69519aa3c7",
   "metadata": {},
   "outputs": [],
   "source": []
  }
 ],
 "metadata": {
  "kernelspec": {
   "display_name": "Python 3 (ipykernel)",
   "language": "python",
   "name": "python3"
  },
  "language_info": {
   "codemirror_mode": {
    "name": "ipython",
    "version": 3
   },
   "file_extension": ".py",
   "mimetype": "text/x-python",
   "name": "python",
   "nbconvert_exporter": "python",
   "pygments_lexer": "ipython3",
   "version": "3.9.7"
  }
 },
 "nbformat": 4,
 "nbformat_minor": 5
}
